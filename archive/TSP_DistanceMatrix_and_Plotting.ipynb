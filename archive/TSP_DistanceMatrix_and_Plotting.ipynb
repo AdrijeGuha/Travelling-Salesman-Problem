{
 "cells": [
  {
   "cell_type": "code",
   "execution_count": 1,
   "id": "bba85130-fb48-4b4c-8361-91248bf1bbda",
   "metadata": {},
   "outputs": [],
   "source": [
    "import requests\n",
    "from requests.structures import CaseInsensitiveDict"
   ]
  },
  {
   "cell_type": "code",
   "execution_count": 2,
   "id": "5ce2e2e9-0372-4216-8d0e-af5195cd4483",
   "metadata": {},
   "outputs": [
    {
     "name": "stdout",
     "output_type": "stream",
     "text": [
      "200\n"
     ]
    }
   ],
   "source": [
    "\n",
    "url = \"https://api.geoapify.com/v1/routematrix?apiKey=6c8e353bd11c4807961ed51e8772fb43\"\n",
    "\n",
    "headers = CaseInsensitiveDict()\n",
    "headers[\"Content-Type\"] = \"application/json\"\n",
    "data = '{\"mode\":\"drive\",\"sources\":[{\"location\":[8.73784862216246,48.543061473317266]},{\"location\":[9.305536080205002,48.56743450655594]},{\"location\":[9.182792846033067,48.09414029055267]}],\"targets\":[{\"location\":[8.73784862216246,48.543061473317266]},{\"location\":[9.305536080205002,48.56743450655594]},{\"location\":[9.182792846033067,48.09414029055267]}]}'\n",
    "resp = requests.post(url, headers=headers, data=data)\n",
    "\n",
    "print(resp.status_code)"
   ]
  },
  {
   "cell_type": "code",
   "execution_count": 3,
   "id": "3f85ef32-db57-4765-bff1-77886c2059d5",
   "metadata": {},
   "outputs": [
    {
     "name": "stdout",
     "output_type": "stream",
     "text": [
      "[{'distance': 0, 'time': 0, 'source_index': 0, 'target_index': 0}, {'distance': 55899, 'time': 3068, 'source_index': 0, 'target_index': 1}, {'distance': 88837, 'time': 4344, 'source_index': 0, 'target_index': 2}]\n",
      "----------------------------------------\n",
      "[{'distance': 55264, 'time': 3022, 'source_index': 1, 'target_index': 0}, {'distance': 0, 'time': 0, 'source_index': 1, 'target_index': 1}, {'distance': 71119, 'time': 3995, 'source_index': 1, 'target_index': 2}]\n",
      "----------------------------------------\n",
      "[{'distance': 88238, 'time': 4327, 'source_index': 2, 'target_index': 0}, {'distance': 71166, 'time': 4024, 'source_index': 2, 'target_index': 1}, {'distance': 0, 'time': 0, 'source_index': 2, 'target_index': 2}]\n",
      "----------------------------------------\n"
     ]
    }
   ],
   "source": [
    "for i in resp.json()['sources_to_targets']:\n",
    "    print(i)\n",
    "    print('----------------------------------------')"
   ]
  },
  {
   "cell_type": "code",
   "execution_count": 5,
   "id": "0f62975f-dbff-4749-850b-15a8f08846c9",
   "metadata": {},
   "outputs": [
    {
     "data": {
      "text/plain": [
       "88837"
      ]
     },
     "execution_count": 5,
     "metadata": {},
     "output_type": "execute_result"
    }
   ],
   "source": [
    "resp.json()['sources_to_targets'][0][2]['distance']"
   ]
  }
 ],
 "metadata": {
  "kernelspec": {
   "display_name": "Python 3 (ipykernel)",
   "language": "python",
   "name": "python3"
  },
  "language_info": {
   "codemirror_mode": {
    "name": "ipython",
    "version": 3
   },
   "file_extension": ".py",
   "mimetype": "text/x-python",
   "name": "python",
   "nbconvert_exporter": "python",
   "pygments_lexer": "ipython3",
   "version": "3.9.7"
  },
  "toc-autonumbering": true,
  "toc-showcode": false
 },
 "nbformat": 4,
 "nbformat_minor": 5
}
