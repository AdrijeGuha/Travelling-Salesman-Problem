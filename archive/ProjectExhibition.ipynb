{
 "cells": [
  {
   "cell_type": "code",
   "execution_count": null,
   "source": [
    "import pandas as pd\r\n",
    "import numpy as np\r\n",
    "import matplotlib.pyplot as plt\r\n",
    "import seaborn as sns"
   ],
   "outputs": [],
   "metadata": {}
  },
  {
   "cell_type": "code",
   "execution_count": null,
   "source": [
    "file = pd.read_excel(\"DataSet.xlsx\")\r\n",
    "file.to_csv(\"DataSet.csv\", index=None, header=True)"
   ],
   "outputs": [],
   "metadata": {}
  },
  {
   "cell_type": "code",
   "execution_count": null,
   "source": [
    "file=pd.read_csv(\"DataSet.csv\")\r\n",
    "d=pd.DataFrame(file)\r\n",
    "df=d.set_index(\"Country\",drop=False)\r\n",
    "df.head()"
   ],
   "outputs": [],
   "metadata": {}
  },
  {
   "cell_type": "code",
   "execution_count": null,
   "source": [
    "df.plot(x='Date_reported', y='Cumulative_cases')\r\n",
    "plt.show()"
   ],
   "outputs": [],
   "metadata": {}
  },
  {
   "cell_type": "code",
   "execution_count": null,
   "source": [
    "country_lst=[]\r\n",
    "country_lst.extend(df.Country_code)\r\n",
    "country_lst=list(set(country_lst))\r\n",
    "print(country_lst)"
   ],
   "outputs": [],
   "metadata": {}
  },
  {
   "cell_type": "code",
   "execution_count": null,
   "source": [
    "for i in country_lst:\r\n",
    "    df2 = df.loc[i:,[\"Date_reported\",\"Cumulative_cases\",\"New_cases\"]]\r\n",
    "    df2.plot(x=\"Date_reported\" , y=\"Cumulative_cases\")\r\n",
    "    plt.title(i)\r\n",
    "    df2.plot(x='Date_reported' , y='New_cases')\r\n",
    "    plt.title(i)\r\n",
    "    plt.show()"
   ],
   "outputs": [],
   "metadata": {}
  }
 ],
 "metadata": {
  "kernelspec": {
   "name": "python3",
   "display_name": "Python 3.9.5 64-bit"
  },
  "language_info": {
   "codemirror_mode": {
    "name": "ipython",
    "version": 3
   },
   "file_extension": ".py",
   "mimetype": "text/x-python",
   "name": "python",
   "nbconvert_exporter": "python",
   "pygments_lexer": "ipython3",
   "version": "3.9.5"
  },
  "interpreter": {
   "hash": "4be3e74c2c0c65d87ea331070dccefe34102fa439e92a60e020748a30944ee70"
  }
 },
 "nbformat": 4,
 "nbformat_minor": 5
}