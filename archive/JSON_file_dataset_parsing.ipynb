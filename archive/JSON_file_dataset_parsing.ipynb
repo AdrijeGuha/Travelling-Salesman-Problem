{
 "cells": [
  {
   "cell_type": "code",
   "execution_count": 6,
   "id": "8a0c7f3a-c3c2-4b4d-8f60-cdf1d8a0465d",
   "metadata": {},
   "outputs": [
    {
     "name": "stdout",
     "output_type": "stream",
     "text": [
      "{'house': [{'longitude': 77.40150901547304, 'latitude': 28.56893302099529}, {'longitude': 77.40098672609315, 'latitude': 28.56941585849843}, {'longitude': 77.40193509365054, 'latitude': 28.569946977191776}, {'longitude': 77.4000187679236, 'latitude': 28.57008005076912}, {'longitude': 77.40074722416443, 'latitude': 28.57079222754554}, {'longitude': 77.40158563606337, 'latitude': 28.570804298296977}, {'longitude': 77.40232783675992, 'latitude': 28.57104571303195}, {'longitude': 77.40242404796243, 'latitude': 28.570466316737964}, {'longitude': 77.4027951483099, 'latitude': 28.570297325550953}, {'longitude': 77.40320748203146, 'latitude': 28.571118137344385}, {'longitude': 77.40338615997723, 'latitude': 28.570768086039337}, {'longitude': 77.40301505962816, 'latitude': 28.57074394452684}, {'longitude': 77.40263021482156, 'latitude': 28.571311268600212}, {'longitude': 77.40268519265146, 'latitude': 28.571106066629028}, {'longitude': 77.4013200715408, 'latitude': 28.57137738903087}, {'longitude': 77.40105436209137, 'latitude': 28.57206683552141}, {'longitude': 77.40148915937266, 'latitude': 28.572448680864483}, {'longitude': 77.40158578099033, 'latitude': 28.571844091764973}, {'longitude': 77.40105436209137, 'latitude': 28.571706202536234}, {'longitude': 77.40096981816714, 'latitude': 28.571228892273197}, {'longitude': 77.40263654107946, 'latitude': 28.57182287805007}, {'longitude': 77.40309549376548, 'latitude': 28.572459287660948}, {'longitude': 77.40234667622519, 'latitude': 28.57234261285393}, {'longitude': 77.40355444645161, 'latitude': 28.572522928410322}, {'longitude': 77.40349405793972, 'latitude': 28.572289578808025}]}\n"
     ]
    }
   ],
   "source": [
    "import json\n",
    "with open('DataSet/Houses(Delhi).json') as file:\n",
    "    db = json.load(file)\n",
    "# print(db['house'[1]['latitude']]+'  '+db['house'[1]['longitude']])\n",
    "print(db)"
   ]
  },
  {
   "cell_type": "code",
   "execution_count": 19,
   "id": "6724a92c-87b4-47fc-b183-859b822a6db0",
   "metadata": {},
   "outputs": [
    {
     "name": "stdout",
     "output_type": "stream",
     "text": [
      "[77.40150901547304, 28.56893302099529]\n"
     ]
    }
   ],
   "source": [
    "import requests\n",
    "file_to_charge = {\n",
    "                    'Delhi' : 'Houses(Delhi).json',\n",
    "                    'Chennai' : 'Houses(Chennai).json',\n",
    "                    'Kolkata' : 'Houses(Kolkata).json'\n",
    "                    }\n",
    "locationName = 'Delhi'\n",
    "url = 'https://raw.githubusercontent.com/AdrijeGuha/Travelling-Salesman-Problem/master/DataSet/'+file_to_charge[locationName]\n",
    "resp = requests.get(url)\n",
    "h_db = resp.json()\n",
    "print([h_db['house'][0]['longitude'],h_db['house'][0]['latitude']])"
   ]
  },
  {
   "cell_type": "code",
   "execution_count": null,
   "id": "9da94b19-d516-4e14-bca7-f0d0a65ea4ed",
   "metadata": {},
   "outputs": [],
   "source": []
  }
 ],
 "metadata": {
  "kernelspec": {
   "display_name": "Python 3 (ipykernel)",
   "language": "python",
   "name": "python3"
  },
  "language_info": {
   "codemirror_mode": {
    "name": "ipython",
    "version": 3
   },
   "file_extension": ".py",
   "mimetype": "text/x-python",
   "name": "python",
   "nbconvert_exporter": "python",
   "pygments_lexer": "ipython3",
   "version": "3.9.7"
  }
 },
 "nbformat": 4,
 "nbformat_minor": 5
}
