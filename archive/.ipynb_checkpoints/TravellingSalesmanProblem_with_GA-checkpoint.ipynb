{
 "cells": [
  {
   "cell_type": "code",
   "execution_count": null,
   "id": "cf2729e7-5f0f-482b-9c2e-a892d33bfdc7",
   "metadata": {},
   "outputs": [],
   "source": [
    "import matplotlib.pyplot as plt\n",
    "import numpy as np\n",
    "import pandas as pd\n",
    "import math as m\n",
    "import logging\n",
    "logging.basicConfig(filename=\"logfile.log\", level=logging.INFO)\n",
    "\n",
    "import osmnx as ox\n",
    "import networkx as nx\n",
    "from IPython.display import IFrame, display, clear_output\n",
    "ox.config(log_console=True, use_cache=True)\n",
    "\n",
    "import sys\n",
    "import os\n",
    "from time import sleep"
   ]
  }
 ],
 "metadata": {
  "kernelspec": {
   "display_name": "Python 3 (ipykernel)",
   "language": "python",
   "name": "python3"
  },
  "language_info": {
   "codemirror_mode": {
    "name": "ipython",
    "version": 3
   },
   "file_extension": ".py",
   "mimetype": "text/x-python",
   "name": "python",
   "nbconvert_exporter": "python",
   "pygments_lexer": "ipython3",
   "version": "3.9.7"
  }
 },
 "nbformat": 4,
 "nbformat_minor": 5
}
