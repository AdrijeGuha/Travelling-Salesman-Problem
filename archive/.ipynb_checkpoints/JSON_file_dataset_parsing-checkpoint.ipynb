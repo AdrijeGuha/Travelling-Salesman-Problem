{
 "cells": [
  {
   "cell_type": "code",
   "execution_count": null,
   "id": "8a0c7f3a-c3c2-4b4d-8f60-cdf1d8a0465d",
   "metadata": {},
   "outputs": [],
   "source": [
    "with open('')"
   ]
  }
 ],
 "metadata": {
  "kernelspec": {
   "display_name": "Python 3 (ipykernel)",
   "language": "python",
   "name": "python3"
  },
  "language_info": {
   "codemirror_mode": {
    "name": "ipython",
    "version": 3
   },
   "file_extension": ".py",
   "mimetype": "text/x-python",
   "name": "python",
   "nbconvert_exporter": "python",
   "pygments_lexer": "ipython3",
   "version": "3.9.7"
  }
 },
 "nbformat": 4,
 "nbformat_minor": 5
}
