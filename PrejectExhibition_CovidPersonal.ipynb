{
 "cells": [
  {
   "cell_type": "markdown",
   "source": [
    "### This project is to help find the _shortest_ and _safest_ path for a **covid personal** in visiting houses with Covid-19 positive patients in a perticular locality.\n",
    "The idea on which this project is bases on the classic `Travelling Salesman Problem`"
   ],
   "metadata": {
    "slideshow": {
     "slide_type": "slide"
    },
    "tags": [
     "About_Project"
    ]
   }
  },
  {
   "cell_type": "markdown",
   "source": [
    "This cell is for all `import(s)` needed."
   ],
   "metadata": {
    "slideshow": {
     "slide_type": "notes"
    },
    "tags": []
   }
  },
  {
   "cell_type": "code",
   "execution_count": 1,
   "source": [
    "import matplotlib.pyplot as plt\r\n",
    "import numpy as np\r\n",
    "import pandas as pd\r\n",
    "import math as m\r\n",
    "import logging\r\n",
    "logging.basicConfig(filename=\"logfile.log\", level=logging.INFO)\r\n",
    "\r\n",
    "import osmnx as ox\r\n",
    "import networkx as nx\r\n",
    "from IPython.display import IFrame, display, clear_output\r\n",
    "ox.config(log_console=True, use_cache=True)\r\n",
    "\r\n",
    "import sys\r\n",
    "import os\r\n",
    "from time import sleep"
   ],
   "outputs": [],
   "metadata": {}
  },
  {
   "cell_type": "markdown",
   "source": [
    "This cell has code for making the `logfile.log` empty."
   ],
   "metadata": {}
  },
  {
   "cell_type": "markdown",
   "source": [
    "This cell has the code for finding the shortest path using _brute force_ approach."
   ],
   "metadata": {
    "slideshow": {
     "slide_type": "notes"
    },
    "tags": []
   }
  },
  {
   "cell_type": "code",
   "execution_count": null,
   "source": [
    "numHouses = 4\r\n",
    "houses = []\r\n",
    "bestDist, recordDist = [], 1.7976931348623157e308\r\n",
    "_x,_y = [],[]\r\n",
    "\r\n",
    "def setup():\r\n",
    "    '''This function is used to create the houses by storing their location in a list'''\r\n",
    "    for i in range(numHouses):\r\n",
    "        houses.append((np.random.randint(10, high=100, size=2)).tolist())\r\n",
    "        houses[i].append(i+1)\r\n",
    "    cleanLogFile()\r\n",
    "\r\n",
    "def draw():\r\n",
    "    '''This finction is ment to graph the houses' position and put a path between the houses'''\r\n",
    "    global recordDist,_x,_y,bestDist\r\n",
    "    xList,yList = [],[]\r\n",
    "    \r\n",
    "    plt.style.use('dark_background')\r\n",
    "    plt.subplots(figsize=(10, 5))\r\n",
    "    fig = plt.subplot(1,2,1)\r\n",
    "    \r\n",
    "    # Plotting the graph with given house sequence\r\n",
    "    for i in range(len(houses)): \r\n",
    "        x=houses[i][0]\r\n",
    "        y=houses[i][1]\r\n",
    "        xList.append(x)\r\n",
    "        yList.append(y)\r\n",
    "        plt.plot(x,y,'ro',ms='5')\r\n",
    "        plt.annotate('house {}'.format(houses[i][2]),xy=(x-5,y-5),color='y')\r\n",
    "    plt.style.use('dark_background')\r\n",
    "    plt.ylim(0,110)\r\n",
    "    plt.xlim(0,110)\r\n",
    "    plt.ylabel('Latitude')\r\n",
    "    plt.xlabel('Longitude')\r\n",
    "    plt.grid(color='grey', linestyle='-', linewidth='0.25')\r\n",
    "    plt.plot(xList, yList, color='white')\r\n",
    "    plt.title(\"House Map of a locality\")\r\n",
    "    # plt.show()\r\n",
    "   \r\n",
    "    \r\n",
    "    dist=calcDistance(xList,yList)\r\n",
    "    logging.info(str(\"Distange for house order -> {1} is \\\"{0:.5f} units\\\"\"\r\n",
    "                     .format(dist,str([i[2] for i in houses])))) #Log tracking all the calculaed distances\r\n",
    "    if(dist<recordDist):\r\n",
    "        bestDist=houses\r\n",
    "        recordDist=dist\r\n",
    "        _x=xList\r\n",
    "        _y=yList\r\n",
    "    # Plotting the graph of the shortest path\r\n",
    "    plt.subplots(figsize=(10, 5))\r\n",
    "    fig = plt.subplot(1,2,2)\r\n",
    "    plt.plot(_x,_y,'ro',ms='6')\r\n",
    "    plt.plot(_x, _y, color='pink',ms='5')\r\n",
    "    plt.title(\"Total distance = {0:.5f} units\\nVisiting House sequence:{1}\"\r\n",
    "              .format(recordDist,str([i[2] for i in bestDist])))\r\n",
    "    plt.ylim(0,110)\r\n",
    "    plt.xlim(0,110)\r\n",
    "    plt.ylabel('Latitude')\r\n",
    "    plt.xlabel('Longitude')\r\n",
    "    plt.grid(color='grey', linestyle='-', linewidth='0.25')\r\n",
    "    for j in range(len(houses)):\r\n",
    "        plt.annotate('house {}'.format(houses[j][2]),xy=(_x[j]-5,_y[j]-5),color='y')\r\n",
    "    \r\n",
    "    plt.show() # Displaying all the ploted graph(s)\r\n",
    "    \r\n",
    "    i,j=np.random.randint(0, high=len(houses), size=2)\r\n",
    "    swap(i,j)\r\n",
    "\r\n",
    "def swap(i,j):\r\n",
    "    houses[i],houses[j] = houses[j],houses[i]\r\n",
    "\r\n",
    "def calcDistance(x,y):\r\n",
    "    _sum=0\r\n",
    "    for i in range(numHouses-1):\r\n",
    "        d = m.dist([x[i],y[i]],[x[i+1],y[i+1]])\r\n",
    "        _sum+=d\r\n",
    "    return _sum\r\n",
    "\r\n",
    "def cleanLogFile():\r\n",
    "    with open('logfile.log','w') as file:\r\n",
    "        file.write('')\r\n",
    "    file.close()"
   ],
   "outputs": [],
   "metadata": {
    "jupyter": {
     "source_hidden": true
    },
    "tags": []
   }
  },
  {
   "cell_type": "code",
   "execution_count": null,
   "source": [
    "setup()\r\n",
    "# houses"
   ],
   "outputs": [],
   "metadata": {
    "jupyter": {
     "source_hidden": true
    },
    "tags": []
   }
  },
  {
   "cell_type": "code",
   "execution_count": null,
   "source": [
    "# for i in range(m.factorial(int(numHouses))):\r\n",
    "    # draw()\r\n",
    "draw()"
   ],
   "outputs": [],
   "metadata": {
    "collapsed": true,
    "jupyter": {
     "outputs_hidden": true,
     "source_hidden": true
    },
    "tags": []
   }
  },
  {
   "cell_type": "markdown",
   "source": [
    "This cell has code to find the shortest distance between two nodes and presentg it on a map."
   ],
   "metadata": {}
  },
  {
   "cell_type": "code",
   "execution_count": null,
   "source": [
    "place_name = \"Jalpaiguri, West Bengal\"\r\n",
    "graph = ox.graph_from_place(place_name, network_type='walk')\r\n",
    "\r\n",
    "# project the network to an appropriate UTM (automatically determined)\r\n",
    "graph_projected = ox.project_graph(graph)\r\n",
    "\r\n",
    "# you can also plot/save figures as SVGs to work with in Illustrator later\r\n",
    "fig, ax = ox.plot_graph(graph_projected, save=False)\r\n",
    "\r\n",
    "origin_node = list(graph.nodes())[150]\r\n",
    "destination_node = list(graph.nodes())[250]\r\n",
    "route = nx.shortest_path(graph, origin_node, destination_node)\r\n",
    "\r\n",
    "route_length = nx.shortest_path(graph, origin_node, destination_node, weight='length')\r\n",
    "\r\n",
    "# plot the route with folium\r\n",
    "route_map_length = ox.plot_route_folium(graph, route_length)\r\n",
    "\r\n",
    "# save as html file then display map as an iframe\r\n",
    "filepath = 'D:\\Programming\\VS Code\\Project Exhibition 1\\graph.html'\r\n",
    "route_map_length.save(filepath)\r\n",
    "IFrame(filepath, width=800, height=500)"
   ],
   "outputs": [],
   "metadata": {
    "jupyter": {
     "source_hidden": true
    },
    "tags": []
   }
  },
  {
   "cell_type": "markdown",
   "source": [
    "This cell has code to take any permutation and generate the next one in lexicographic order.  \n",
    "[`Algorithm`](https://www.quora.com/How-would-you-explain-an-algorithm-that-generates-permutations-using-lexicographic-ordering) for the generating __lexicographic order__:\n",
    "> __Step 1:__  Find the _largest_ `x` such that `P[x]<P[x+1]`. ( If there is no such `x`, `P` is the _last permutation_. )  \n",
    "> __Step 2:__  Find the _largest_ `y` such that `P[x]<P[y]`.  \n",
    "> __Step 3:__  _Swap_ `P[x]` and `P[y]`.  \n",
    "> __Step 4:__  _Reverse_ `P[x+1 .. n]`.  "
   ],
   "metadata": {}
  },
  {
   "cell_type": "code",
   "execution_count": null,
   "source": [
    "# vals=[5,1,7,6,3,9,8,4,2]\r\n",
    "vals=[0,1,2,3]\r\n",
    "\r\n",
    "def lexico():\r\n",
    "    global vals\r\n",
    "    flg = True\r\n",
    "    \r\n",
    "    while flg:\r\n",
    "        print(vals)\r\n",
    "\r\n",
    "        # Step 1\r\n",
    "        largestI = -1\r\n",
    "        for i in range(len(vals)-1):\r\n",
    "            if vals[i]<vals[i+1]:\r\n",
    "                largestI=i\r\n",
    "        if largestI == -1:\r\n",
    "            print('finished!')\r\n",
    "            flg = False\r\n",
    "\r\n",
    "        # Step 2\r\n",
    "        largestJ = -1\r\n",
    "        for j in range(len(vals)):\r\n",
    "            if(vals[largestI]<vals[j]):\r\n",
    "                largestJ=j\r\n",
    "\r\n",
    "        # Step 3\r\n",
    "        swap(largestI,largestJ)\r\n",
    "\r\n",
    "        # Step 4\r\n",
    "        arr = sorted(vals[(largestI+1):])\r\n",
    "        vals = vals[0:(largestI+1)]\r\n",
    "        vals.extend(arr)\r\n",
    "\r\n",
    "        # print('largestI',largestI,'\\nlargestJ',largestJ) # Debugger printing `LargestI` and `LargestJ` variables\r\n",
    "\r\n",
    "def swap(i,j):\r\n",
    "    vals[i],vals[j] = vals[j],vals[i]\r\n",
    "\r\n",
    "# def drawLexico():\r\n",
    "#     i=True\r\n",
    "#     while i:\r\n",
    "#         i = lexico()\r\n",
    "#         input()"
   ],
   "outputs": [],
   "metadata": {
    "jupyter": {
     "source_hidden": true
    },
    "tags": []
   }
  },
  {
   "cell_type": "code",
   "execution_count": null,
   "source": [
    "lexico()"
   ],
   "outputs": [],
   "metadata": {
    "collapsed": true,
    "jupyter": {
     "outputs_hidden": true,
     "source_hidden": true
    },
    "tags": []
   }
  },
  {
   "cell_type": "markdown",
   "source": [
    "This cell has code for `Travelling Salesman Problem` with __lexicographic order__."
   ],
   "metadata": {}
  },
  {
   "cell_type": "code",
   "execution_count": null,
   "source": [
    "numHouses = 5\r\n",
    "houses, order = [], []\r\n",
    "bestDist, recordDist = [], 1.7976931348623157e308\r\n",
    "_x, _y = [], []\r\n",
    "count, totalPermutation, animationSpeed = 1, 0, 0\r\n",
    "flg = True\r\n",
    "\r\n",
    "def setupHouses():\r\n",
    "    '''This function is used to create the houses by storing their location in a list'''\r\n",
    "    global totalPermutation,houses,order\r\n",
    "    \r\n",
    "    for i in range(numHouses):\r\n",
    "        houses.append((np.random.randint(10, high=500, size=2)).tolist())\r\n",
    "        houses[i].append(i+1)\r\n",
    "        order.append(i)\r\n",
    "    totalPermutation = factorial(numHouses)\r\n",
    "    cleanLogFile()\r\n",
    "\r\n",
    "def drawHouses():\r\n",
    "    '''This finction is ment to graph the houses' position and put a path between the houses'''\r\n",
    "    global recordDist,bestDist,_x,_y,order,houses,totalPermutation,animationSpeed\r\n",
    "    xList,yList = [],[]\r\n",
    "\r\n",
    "    # print(f'houses = {houses}\\norder = {order}') # Debugger\r\n",
    "    \r\n",
    "    plt.style.use('dark_background')\r\n",
    "    plt.subplots(figsize=(20, 10))\r\n",
    "    fig = plt.subplot(1,2,1)\r\n",
    "\r\n",
    "    # Plotting the house\r\n",
    "    for i in order: \r\n",
    "        x=houses[i][0]\r\n",
    "        y=houses[i][1]\r\n",
    "        xList.append(x)\r\n",
    "        yList.append(y)\r\n",
    "        plt.plot(x,y,'ro',ms='5')\r\n",
    "        plt.annotate('house {}'.format(houses[i][2]),xy=(x-10,y-10),color='y',fontsize=10)\r\n",
    "    plt.style.use('dark_background')\r\n",
    "    plt.ylim(0,510)\r\n",
    "    plt.xlim(0,510)\r\n",
    "    plt.ylabel('Latitude')\r\n",
    "    plt.xlabel('Longitude')\r\n",
    "    plt.grid(color='grey', linestyle='-', linewidth='0.25')\r\n",
    "    plt.plot(xList, yList, color='white')\r\n",
    "    plt.title(\"House Map of a locality\")\r\n",
    "   \r\n",
    "    dist = calcDistance(xList,yList)\r\n",
    "    logging.info(str(\"Distange for house order -> {1} is \\\"{0:.5f} units\\\"\"\r\n",
    "                     .format(dist,str([(i+1) for i in order])))) #Log tracking all the calculaed distances\r\n",
    "    if(dist < recordDist):\r\n",
    "        bestDist=list(order)\r\n",
    "        recordDist=dist\r\n",
    "        _x=xList\r\n",
    "        _y=yList\r\n",
    "    # print(f'bestDist = {bestDist}') # Debugger\r\n",
    "    # Plotting the graph of the shortest path\r\n",
    "    fig = plt.subplot(1,2,2)\r\n",
    "    plt.plot(_x,_y,'ro',ms='6')\r\n",
    "    plt.plot(_x, _y, color='pink',ms='5')\r\n",
    "    plt.title(\"Total distance = {0:.5f} units\\nVisiting House sequence:{1}\"\r\n",
    "              .format(recordDist,str([(i+1) for i in bestDist])))\r\n",
    "    plt.ylim(0,510)\r\n",
    "    plt.xlim(0,510)\r\n",
    "    plt.ylabel('Latitude')\r\n",
    "    plt.xlabel('Longitude')\r\n",
    "    plt.grid(color='grey', linestyle='-', linewidth='0.25')\r\n",
    "    for i,j in enumerate(bestDist):\r\n",
    "        plt.annotate('house {}'.format(houses[j][2]),xy=(_x[i]-10,_y[i]-10),color='y',fontsize=10)\r\n",
    "    \r\n",
    "\r\n",
    "    percent = 100 * (count/totalPermutation)\r\n",
    "    print(f'{percent:.2f}% completed.')\r\n",
    "    \r\n",
    "    plt.subplots_adjust(left=0.1,\r\n",
    "                    bottom=0.1, \r\n",
    "                    right=0.9, \r\n",
    "                    top=0.9, \r\n",
    "                    wspace=0.4, \r\n",
    "                    hspace=0.4)\r\n",
    "    plt.show() # Displaying all the ploted graph(s)\r\n",
    "    sleep(animationSpeed) # Setting the animation speed of the output\r\n",
    "\r\n",
    "    nextOrder()\r\n",
    "    \r\n",
    "    if flg == False:\r\n",
    "        sys.exit('')\r\n",
    "\r\n",
    "def swapOrder(i,j):\r\n",
    "    global order\r\n",
    "    \r\n",
    "    order[i],order[j] = order[j],order[i]\r\n",
    "\r\n",
    "def calcDistance(x,y):\r\n",
    "    global order\r\n",
    "    _sum, houseAindex, houseBindex = 0, 0, 0\r\n",
    "    for i in range(len(order)-1):\r\n",
    "        houseAindex=order[i]\r\n",
    "        houseBindex=order[i+1]\r\n",
    "        d = m.dist([x[houseAindex],y[houseAindex]],[x[houseBindex],y[houseBindex]])\r\n",
    "        _sum+=d\r\n",
    "    return _sum\r\n",
    "\r\n",
    "def nextOrder():\r\n",
    "    global order,count,flg\r\n",
    "\r\n",
    "    count+=1\r\n",
    "    \r\n",
    "    # print(order)\r\n",
    "\r\n",
    "    # Step 1\r\n",
    "    largestI = -1\r\n",
    "    for i in range(len(order)-1):\r\n",
    "        if order[i]<order[i+1]:\r\n",
    "            largestI=i\r\n",
    "    if largestI == -1:\r\n",
    "        flg=False\r\n",
    "        print('finished!')\r\n",
    "        \r\n",
    "\r\n",
    "    # Step 2\r\n",
    "    largestJ = -1\r\n",
    "    for j in range(len(order)):\r\n",
    "        if(order[largestI]<order[j]):\r\n",
    "            largestJ=j\r\n",
    "\r\n",
    "    # Step 3\r\n",
    "    swapOrder(largestI,largestJ)\r\n",
    "\r\n",
    "    # Step 4\r\n",
    "    arr = sorted(order[(largestI+1):])\r\n",
    "    order = order[0:(largestI+1)]\r\n",
    "    order.extend(arr)\r\n",
    "    \r\n",
    "    # Debugger printing `LargestI` and `LargestJ` variables\r\n",
    "    # print('largestI',largestI,'\\nlargestJ',largestJ)\r\n",
    "\r\n",
    "def cleanLogFile():\r\n",
    "    with open('logfile.log','w') as file:\r\n",
    "        file.write('')\r\n",
    "    file.close()\r\n",
    "\r\n",
    "def factorial(num):\r\n",
    "    if num == 1:\r\n",
    "        return 1\r\n",
    "    else:\r\n",
    "        return num * factorial(num-1)"
   ],
   "outputs": [],
   "metadata": {}
  },
  {
   "cell_type": "code",
   "execution_count": null,
   "source": [
    "setupHouses()"
   ],
   "outputs": [],
   "metadata": {}
  },
  {
   "cell_type": "code",
   "execution_count": null,
   "source": [
    "while True:\r\n",
    "    drawHouses()\r\n",
    "    clear_output(wait=True)"
   ],
   "outputs": [],
   "metadata": {}
  },
  {
   "cell_type": "markdown",
   "source": [],
   "metadata": {}
  },
  {
   "cell_type": "code",
   "execution_count": null,
   "source": [],
   "outputs": [],
   "metadata": {}
  }
 ],
 "metadata": {
  "interpreter": {
   "hash": "4be3e74c2c0c65d87ea331070dccefe34102fa439e92a60e020748a30944ee70"
  },
  "kernelspec": {
   "name": "python3",
   "display_name": "Python 3.9.5 64-bit"
  },
  "language_info": {
   "codemirror_mode": {
    "name": "ipython",
    "version": 3
   },
   "file_extension": ".py",
   "mimetype": "text/x-python",
   "name": "python",
   "nbconvert_exporter": "python",
   "pygments_lexer": "ipython3",
   "version": "3.9.5"
  },
  "toc-autonumbering": false,
  "toc-showcode": false,
  "toc-showmarkdowntxt": false,
  "toc-showtags": true
 },
 "nbformat": 4,
 "nbformat_minor": 4
}